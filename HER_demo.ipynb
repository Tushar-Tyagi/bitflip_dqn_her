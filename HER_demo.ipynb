{
 "cells": [
  {
   "cell_type": "markdown",
   "id": "e072b08e",
   "metadata": {},
   "source": [
    "# Walkthrough - Hindsight Experience Replay (HER)\n",
    "\n",
    "In this notebook, we provide a walkthrough of our implementation of Hindsight Experience Replay (HER) based on [arxiv.org/abs/1707.01495](https://arxiv.org/abs/1707.01495). We start by demonstrating the multi-goal DQN+HER implementation for the simple Bit-Flip environment that has been used by the author as a proof-of-concept to show that it work significantly better than DQN without HER.\n",
    "\n",
    "The demonstration includes both training and comparision of the two methods."
   ]
  },
  {
   "cell_type": "code",
   "execution_count": 1,
   "id": "bcad7961",
   "metadata": {},
   "outputs": [],
   "source": [
    "import sys\n",
    "import numpy as np\n",
    "import matplotlib.pyplot as plt\n",
    "import torch\n",
    "from tqdm import tqdm\n",
    "sys.path.append('src')\n",
    "\n",
    "from environment import BitFlipEnv\n",
    "from network import DQN\n",
    "from replay_buffer import ReplayBuffer\n",
    "from her_buffer import HERBuffer\n",
    "from dqn_agent import DQNAgent\n",
    "from dqn_her_agent import DQNHERAgent\n",
    "from utils import print_training_progress, evaluate_agent"
   ]
  },
  {
   "cell_type": "markdown",
   "id": "4e82409f",
   "metadata": {},
   "source": [
    "### The Bit-Flip environment\n",
    "\n",
    "The Bit-Flip environment is a very simple multi-goal environment which randomly initialises a random n-bit binary number and sets it as the goal for the epsiode. The initial state is another random n-bit binary number and the agent's task is to flip the bits at each step to change the initial binary number to the goal binary number.\n",
    "\n",
    "This environment has the following properties:\n",
    "\n",
    "- $ \\mathcal{S} = \\{0,1\\}^n $\n",
    "- $ \\mathcal{G} = \\{0,1\\}^n $\n",
    "- $ \\mathcal{A} = \\{0, 1, ..., n-1\\} $\n",
    "- The policy has a rewards $-1$ everywhere except when the the environment state matches with the goal state.\n",
    "- The length of each episode is equal to the number of bits, and the episode is successful if the goal state is achieved at an arbitrary timestep during the episode."
   ]
  },
  {
   "cell_type": "code",
   "execution_count": 2,
   "id": "2e73625b",
   "metadata": {},
   "outputs": [],
   "source": [
    "# Number of bits for the BitFlip environment\n",
    "env = BitFlipEnv(n_bits=10)\n",
    "obs_dict = env.reset()"
   ]
  },
  {
   "cell_type": "code",
   "execution_count": 3,
   "id": "8ffe1787",
   "metadata": {},
   "outputs": [
    {
     "name": "stdout",
     "output_type": "stream",
     "text": [
      "Achieved State:\n",
      "[1 1 1 1 0 0 0 0 0 1]\n",
      "Desired Goal - picked at random:\n",
      "[0 1 1 1 0 0 0 0 1 1]\n"
     ]
    }
   ],
   "source": [
    "print(\"Achieved State:\")\n",
    "print(obs_dict['achieved_goal'].astype(int))\n",
    "print(\"Desired Goal - picked at random:\")\n",
    "print(obs_dict['desired_goal'].astype(int))"
   ]
  },
  {
   "cell_type": "markdown",
   "id": "b2061c99",
   "metadata": {},
   "source": [
    "Taking a set of random actions:"
   ]
  },
  {
   "cell_type": "code",
   "execution_count": 4,
   "id": "750fc2b8",
   "metadata": {},
   "outputs": [
    {
     "name": "stdout",
     "output_type": "stream",
     "text": [
      "Start state: [1 1 1 1 0 0 0 0 0 1]\n",
      "\n",
      "Action: Flip index 2; State: [1 1 0 1 0 0 0 0 0 1]; Reward: -1.0; terminated=False, truncated=False\n",
      "Action: Flip index 2; State: [1 1 1 1 0 0 0 0 0 1]; Reward: -1.0; terminated=False, truncated=False\n",
      "Action: Flip index 6; State: [1 1 1 1 0 0 1 0 0 1]; Reward: -1.0; terminated=False, truncated=False\n",
      "Action: Flip index 3; State: [1 1 1 0 0 0 1 0 0 1]; Reward: -1.0; terminated=False, truncated=False\n",
      "Action: Flip index 3; State: [1 1 1 1 0 0 1 0 0 1]; Reward: -1.0; terminated=False, truncated=False\n",
      "Action: Flip index 2; State: [1 1 0 1 0 0 1 0 0 1]; Reward: -1.0; terminated=False, truncated=False\n",
      "Action: Flip index 0; State: [0 1 0 1 0 0 1 0 0 1]; Reward: -1.0; terminated=False, truncated=False\n",
      "Action: Flip index 1; State: [0 0 0 1 0 0 1 0 0 1]; Reward: -1.0; terminated=False, truncated=False\n",
      "Action: Flip index 7; State: [0 0 0 1 0 0 1 1 0 1]; Reward: -1.0; terminated=False, truncated=False\n",
      "Action: Flip index 5; State: [0 0 0 1 0 1 1 1 0 1]; Reward: -1.0; terminated=False, truncated=True\n"
     ]
    }
   ],
   "source": [
    "actions = np.random.randint(0, env.n_bits, size=10)\n",
    "\n",
    "print(\"Start state:\", obs_dict['achieved_goal'].astype(int))\n",
    "print()\n",
    "for action in actions:\n",
    "    obs_dict, reward, terminated, truncated, info = env.step(action)\n",
    "    print(f\"Action: Flip index {action}\", end='; ')\n",
    "    print(\"State:\", obs_dict['achieved_goal'].astype(int), end='; ')\n",
    "    print(\"Reward:\", reward, end='; ')\n",
    "    print(f\"{terminated=}, {truncated=}\")\n",
    "    "
   ]
  },
  {
   "cell_type": "markdown",
   "id": "af36bfa9",
   "metadata": {},
   "source": [
    "### Creating the DQN Networks\n",
    "\n",
    "DQN generally uses two identical networks, where one predicts Q-values for all possible actions, and another acts as the target network. The input dimensions is same as the dimensions of the observed state of the environment and the output dimensions is the number of possible actions.\n",
    "\n",
    "However, in the multi-goal case utilised in HER, the input of Q-function also includes the goal state that is sampled from some distribution at the start of the episode. In our case we randomly sample the goal state. This is termed as _Universal Value Function Approxiamtors (UVFA)_, where the reward function, the policy, and the value functions also depend on the goal state and is widely used for multi-goal RL algorithms.\n",
    "\n",
    "Thus, for every goal $g \\in \\mathcal{G}$ with some _goal space_ $\\mathcal{G}$, there is some reward function $r_g: \\mathcal{S} \\times \\mathcal{A} \\rightarrow \\mathbb{R}$. The policy becomes $\\pi : \\mathcal{S} \\times \\mathcal{G} \\rightarrow \\mathcal{A}$, and the Q-function is now $Q^\\pi(s_t, a_t, g) = \\mathbb{E}[R_t | s_t, a_t, g]$."
   ]
  },
  {
   "cell_type": "code",
   "execution_count": 5,
   "id": "e787414b",
   "metadata": {},
   "outputs": [],
   "source": [
    "# Input is now state and goal concatenated\n",
    "q_network = DQN(\n",
    "    input_size=2*env.n_bits,\n",
    "    output_size=env.n_bits,\n",
    "    hidden_sizes=[256]\n",
    ")\n",
    "\n",
    "target_q_network = DQN(\n",
    "    input_size=2*env.n_bits,\n",
    "    output_size=env.n_bits,\n",
    "    hidden_sizes=[256]\n",
    ")\n",
    "\n",
    "her_q_network = DQN(\n",
    "    input_size=2*env.n_bits,\n",
    "    output_size=env.n_bits,\n",
    "    hidden_sizes=[256]\n",
    ")\n",
    "\n",
    "target_her_q_network = DQN(\n",
    "    input_size=2*env.n_bits,\n",
    "    output_size=env.n_bits,\n",
    "    hidden_sizes=[256]\n",
    ")\n",
    "\n",
    "# Replicating initialised weights from q_network to target_q_network\n",
    "target_q_network.load_state_dict(q_network.state_dict())\n",
    "target_her_q_network.load_state_dict(her_q_network.state_dict())\n",
    "\n",
    "# Gradients for target network ar never calculated\n",
    "target_q_network.eval()\n",
    "target_her_q_network.eval()\n",
    "\n",
    "# Initializing optimizers\n",
    "lr = 0.001\n",
    "optimizer = torch.optim.Adam(q_network.parameters(), lr=lr)\n",
    "her_optimizer = torch.optim.Adam(her_q_network.parameters(), lr=lr)"
   ]
  },
  {
   "cell_type": "markdown",
   "id": "c44116b7",
   "metadata": {},
   "source": [
    "### The Replay Buffers\n",
    "\n",
    "This is where Hindsight Experience Replay introduces its most influential modification. For every episode added to the replay buffer, HER proposes to add the same epsiode again with the goal modified and the rewards updated accordingly. This adds a significant number of transitions that achieve some goal successfully, thus increasing the proportion of successful episodes, which wouldn't have been possible for random exploration in a sparse environment.\n",
    "\n",
    "The principal variations lie in for every added episode, how is the goal modified. Any of the state in the episode could be taken as the new goal. Or for every timestep, we could take any of the later states as the goal and add the transition with the new goal to the buffer. We could also decide how many new goals should be chosen corresponding to which transitions are added to the buffer. This number controls the proportion of actual transitions and the modified transitions in the buffer.\n",
    "\n",
    "In the current demonstration, we use what the author call the _future_ strategy of choosing goals, in which for every timestep in an episode, later states are chosen as goals randomly and the transition is added to the buffer. And for every timestamp, sampling and adding 4 such goals was shown to be the best strategy."
   ]
  },
  {
   "cell_type": "code",
   "execution_count": 6,
   "id": "f9e57294",
   "metadata": {},
   "outputs": [],
   "source": [
    "buffer_size = 100_000\n",
    "replay_buffer = ReplayBuffer(\n",
    "    capacity=buffer_size,\n",
    "    observation_size=2*env.n_bits\n",
    ")\n",
    "her_replay_buffer = HERBuffer(\n",
    "    capacity=buffer_size, \n",
    "    observation_size=2*env.n_bits, \n",
    "    goal_size=env.n_bits,\n",
    "    her_strategy=\"future\",\n",
    "    her_k=4\n",
    ")"
   ]
  },
  {
   "cell_type": "markdown",
   "id": "6674ebfe",
   "metadata": {},
   "source": [
    "### Training DQN and DQN+HER\n",
    "\n",
    "Most of the training steps are same for both the agents except for some superficial changes to storing results and passing paramteres.\n",
    "\n",
    "Here, we will use `DQNAgent` and `DQNHERAgent` that have some helpful functions for training and evaluation.\n",
    "\n",
    "Here, we have divided the training into 50 epochs with each epoch containing 50 episodes. This helps us to visualise the success rate in every epoch. The target network weights are updated after every 100 iterations. We use the Adam optimiser with 0.001 learning rate."
   ]
  },
  {
   "cell_type": "code",
   "execution_count": 7,
   "id": "77d7454a",
   "metadata": {},
   "outputs": [],
   "source": [
    "dqn_agent = DQNAgent(\n",
    "    observation_size=env.n_bits*2,\n",
    "    action_size=env.n_bits,\n",
    ")\n",
    "dqn_agent.policy_net = q_network\n",
    "dqn_agent.target_net = target_q_network\n",
    "dqn_agent.optimizer = optimizer\n",
    "dqn_agent.replay_buffer = replay_buffer\n",
    "\n",
    "her_dqn_agent = DQNHERAgent(\n",
    "    observation_size=env.n_bits*2,\n",
    "    action_size=env.n_bits,\n",
    "    goal_size=env.n_bits,\n",
    ")\n",
    "her_dqn_agent.policy_net = her_q_network\n",
    "her_dqn_agent.target_net = target_her_q_network\n",
    "her_dqn_agent.optimizer = her_optimizer\n",
    "her_dqn_agent.replay_buffer = her_replay_buffer"
   ]
  },
  {
   "cell_type": "code",
   "execution_count": 8,
   "id": "979a54a7",
   "metadata": {},
   "outputs": [],
   "source": [
    "def train(agent, env, her=False, num_epochs=200, \n",
    "          episodes_per_epoch=50, verbose=False):\n",
    "    env.reset()\n",
    "\n",
    "    # Training metrics\n",
    "    epoch_rewards = []\n",
    "    epoch_success_rates = []\n",
    "    epoch_losses = []\n",
    "    epoch_q_values = []\n",
    "    all_episode_rewards = []\n",
    "    all_episode_successes = []\n",
    "\n",
    "    for epoch in tqdm(range(1, num_epochs + 1), desc=\"Training Progress\", disable=verbose):\n",
    "        epoch_total_reward = 0\n",
    "        epoch_successes = []\n",
    "        epoch_loss_values = []\n",
    "        epoch_q_value_list = []\n",
    "\n",
    "        for episode in tqdm(range(episodes_per_epoch), desc=f\"Epoch {epoch}/{num_epochs}\", disable=(not verbose)):\n",
    "            obs_dict = env.reset()\n",
    "            observation = obs_dict['observation']\n",
    "\n",
    "            achieved_goal = None\n",
    "            desired_goal = None\n",
    "            if her:\n",
    "                achieved_goal = obs_dict['achieved_goal']\n",
    "                desired_goal = obs_dict['desired_goal']\n",
    "            \n",
    "            episode_reward = 0\n",
    "            done = False\n",
    "            steps = 0\n",
    "            \n",
    "            while not done and steps < env.max_steps:\n",
    "                # Select action\n",
    "                action = agent.select_action(observation, training=True)\n",
    "                \n",
    "                # Take step\n",
    "                next_obs_dict, reward, terminated, truncated, info = env.step(action)\n",
    "                next_observation = next_obs_dict['observation']\n",
    "                next_achieved_goal = None\n",
    "                if her:\n",
    "                    next_achieved_goal = next_obs_dict['achieved_goal']\n",
    "                done = terminated or truncated\n",
    "                \n",
    "                # Store transition\n",
    "                if her:\n",
    "                    agent.store_transition(\n",
    "                        observation, action, reward, next_observation, done,\n",
    "                        achieved_goal, desired_goal, next_achieved_goal\n",
    "                    )\n",
    "                else:\n",
    "                    agent.store_transition(observation, action, reward, next_observation, done)\n",
    "                \n",
    "                # Update agent\n",
    "                metrics = agent.update()\n",
    "                if metrics:\n",
    "                    epoch_loss_values.append(metrics['loss'])\n",
    "                    epoch_q_value_list.append(metrics['q_value'])\n",
    "                \n",
    "                observation = next_observation\n",
    "\n",
    "                if her:\n",
    "                    achieved_goal = next_achieved_goal\n",
    "                episode_reward += reward\n",
    "                steps += 1\n",
    "            \n",
    "            # In case of HER, triggers HER replays\n",
    "            agent.end_episode()\n",
    "            epoch_total_reward += episode_reward\n",
    "            epoch_successes.append(info['is_success'])\n",
    "            all_episode_rewards.append(episode_reward)\n",
    "            all_episode_successes.append(info['is_success'])\n",
    "        \n",
    "        # Epoch statistics\n",
    "        mean_reward = epoch_total_reward / episodes_per_epoch\n",
    "        success_rate = np.mean(epoch_successes)\n",
    "        mean_loss = np.mean(epoch_loss_values) if epoch_loss_values else 0.0\n",
    "        mean_q_value = np.mean(epoch_q_value_list) if epoch_q_value_list else 0.0\n",
    "        \n",
    "        epoch_rewards.append(mean_reward)\n",
    "        epoch_success_rates.append(success_rate)\n",
    "        epoch_losses.append(mean_loss)\n",
    "        epoch_q_values.append(mean_q_value)\n",
    "\n",
    "        # Print progress\n",
    "        if epoch % 1 == 0:\n",
    "            if verbose:\n",
    "                print_training_progress(epoch, num_epochs, {\n",
    "                    'Mean Reward': mean_reward,\n",
    "                    'Success Rate': success_rate,\n",
    "                    'Loss': mean_loss,\n",
    "                    'Q-value': mean_q_value,\n",
    "                    'Epsilon': agent.epsilon,\n",
    "                    'Buffer Size': len(agent.replay_buffer)\n",
    "                })\n",
    "    \n",
    "    # Final evaluation\n",
    "    eval_metrics = evaluate_agent(agent, env, num_episodes=100)\n",
    "\n",
    "    if verbose:\n",
    "        print(\"\\nFinal Evaluation...\")\n",
    "    print(f\"Final Success Rate: {eval_metrics['success_rate']:.4f}\")\n",
    "    print(f\"Mean Episode Length: {eval_metrics['mean_episode_length']:.2f}\")\n",
    "\n",
    "    # Save results\n",
    "    results = {\n",
    "        'epoch_rewards': epoch_rewards,\n",
    "        'epoch_success_rates': epoch_success_rates,\n",
    "        'epoch_losses': epoch_losses,\n",
    "        'epoch_q_values': epoch_q_values,\n",
    "        'all_episode_rewards': all_episode_rewards,\n",
    "        'all_episode_successes': all_episode_successes,\n",
    "        'final_eval': eval_metrics,\n",
    "        'total_episodes': num_epochs * episodes_per_epoch\n",
    "    }\n",
    "    if her:\n",
    "        results['algorithm'] = 'DQN-HER'\n",
    "    else:\n",
    "        results['algorithm'] = 'DQN'\n",
    "\n",
    "    if verbose:\n",
    "        print(\"\\nTraining completed!\")\n",
    "    \n",
    "    return results"
   ]
  },
  {
   "cell_type": "code",
   "execution_count": 9,
   "id": "c4db3db2",
   "metadata": {},
   "outputs": [
    {
     "name": "stderr",
     "output_type": "stream",
     "text": [
      "Training Progress: 100%|██████████| 30/30 [00:30<00:00,  1.01s/it]"
     ]
    },
    {
     "name": "stdout",
     "output_type": "stream",
     "text": [
      "Final Success Rate: 0.0200\n",
      "Mean Episode Length: 9.85\n"
     ]
    },
    {
     "name": "stderr",
     "output_type": "stream",
     "text": [
      "\n"
     ]
    }
   ],
   "source": [
    "dqn_results = train(dqn_agent, env, her=False, num_epochs=30, episodes_per_epoch=16)"
   ]
  },
  {
   "cell_type": "code",
   "execution_count": 10,
   "id": "a863ddb8",
   "metadata": {},
   "outputs": [
    {
     "name": "stderr",
     "output_type": "stream",
     "text": [
      "Training Progress: 100%|██████████| 30/30 [00:19<00:00,  1.56it/s]"
     ]
    },
    {
     "name": "stdout",
     "output_type": "stream",
     "text": [
      "Final Success Rate: 1.0000\n",
      "Mean Episode Length: 5.37\n"
     ]
    },
    {
     "name": "stderr",
     "output_type": "stream",
     "text": [
      "\n"
     ]
    }
   ],
   "source": [
    "her_dqn_results = train(her_dqn_agent, env, her=True, num_epochs=30, episodes_per_epoch=16)"
   ]
  },
  {
   "cell_type": "code",
   "execution_count": 11,
   "id": "3a8f9db1",
   "metadata": {},
   "outputs": [
    {
     "data": {
      "image/png": "[encoded data removed]",
      "text/plain": [
       "<Figure size 640x480 with 1 Axes>"
      ]
     },
     "metadata": {},
     "output_type": "display_data"
    }
   ],
   "source": [
    "results_to_plot = {\n",
    "    'DQN': dqn_results,\n",
    "    'DQN-HER': her_dqn_results\n",
    "}\n",
    "\n",
    "plt.figure()\n",
    "\n",
    "for name, result_data in results_to_plot.items():\n",
    "    success_rates = result_data['epoch_success_rates']\n",
    "    epochs = np.arange(1, len(success_rates) + 1)\n",
    "    \n",
    "    plt.plot(epochs, success_rates, label=name)\n",
    "\n",
    "plt.xlabel('Epoch')\n",
    "plt.ylabel('Success Rate out of 50 episodes')\n",
    "plt.title(f'Environment: BitFlip with {env.n_bits}-bits')\n",
    "plt.legend(framealpha=0.9)\n",
    "plt.grid(True, alpha=0.3)\n",
    "plt.ylim([-0.05, 1.05])\n",
    "plt.show()"
   ]
  },
  {
   "cell_type": "markdown",
   "id": "ae3d0ecb",
   "metadata": {},
   "source": [
    "### Comparing DQN and DQN-HER\n",
    "\n",
    "Now, with this minimal implementation, we could demonstrate that above a certain number of bits, DQN fails to achieve any consistent success. Whereas DQN with HER achieves almost perfect success rate. This is the result of the reward getting more sparse as the search space becomes larger with only one state having non-negative reward."
   ]
  },
  {
   "cell_type": "code",
   "execution_count": 12,
   "id": "c1e75acf",
   "metadata": {},
   "outputs": [],
   "source": [
    "def get_networks_and_optimizers(env):\n",
    "    q_network = DQN(\n",
    "        input_size=2*env.n_bits,\n",
    "        output_size=env.n_bits,\n",
    "        hidden_sizes=[256]\n",
    "    )\n",
    "\n",
    "    target_q_network = DQN(\n",
    "        input_size=2*env.n_bits,\n",
    "        output_size=env.n_bits,\n",
    "        hidden_sizes=[256]\n",
    "    )\n",
    "\n",
    "    # Replicating initialised weights from q_network to target_q_network\n",
    "    target_q_network.load_state_dict(q_network.state_dict())\n",
    "\n",
    "    # Gradients for target network ar never calculated\n",
    "    target_q_network.eval()\n",
    "\n",
    "    # Initializing optimizers\n",
    "    lr = 0.001\n",
    "    optimizer = torch.optim.Adam(q_network.parameters(), lr=lr)\n",
    "\n",
    "    return (q_network, target_q_network, optimizer)\n",
    "\n",
    "def multiple_train(bits=[5], her=True, num_epochs=30, episodes_per_epoch=16):\n",
    "    n_bits_list = []\n",
    "    eval_success_rates = []\n",
    "    for n_bits in bits:\n",
    "        print(f\"\\nNumber of bits: {n_bits}\")\n",
    "        env = BitFlipEnv(n_bits=n_bits)\n",
    "\n",
    "        q_network, target_q_network, optimizer = get_networks_and_optimizers(env)\n",
    "\n",
    "        buffer_size = 100_000\n",
    "        agent = None\n",
    "        replay_buffer = None\n",
    "        if not her:\n",
    "            agent = DQNAgent(\n",
    "                observation_size=env.n_bits*2,\n",
    "                action_size=env.n_bits,\n",
    "            )\n",
    "            replay_buffer = ReplayBuffer(\n",
    "                capacity=buffer_size,\n",
    "                observation_size=2*env.n_bits\n",
    "            )\n",
    "        else:\n",
    "            agent = DQNHERAgent(\n",
    "                observation_size=env.n_bits*2,\n",
    "                action_size=env.n_bits,\n",
    "                goal_size=env.n_bits,\n",
    "            )\n",
    "            replay_buffer = HERBuffer(\n",
    "                capacity=buffer_size, \n",
    "                observation_size=2*env.n_bits, \n",
    "                goal_size=env.n_bits,\n",
    "                her_strategy=\"future\",\n",
    "                her_k=4\n",
    "            )\n",
    "        \n",
    "        buffer_size = 100_000\n",
    "\n",
    "        agent.policy_net = q_network\n",
    "        agent.target_net = target_q_network\n",
    "        agent.optimizer = optimizer\n",
    "        dqn_agent.replay_buffer = replay_buffer\n",
    "        \n",
    "        results = train(agent, env, her=her, num_epochs=num_epochs, episodes_per_epoch=episodes_per_epoch)\n",
    "        \n",
    "        n_bits_list.append(n_bits)\n",
    "        eval_success_rates.append(results['final_eval']['success_rate'])\n",
    "    \n",
    "    return n_bits_list, eval_success_rates"
   ]
  },
  {
   "cell_type": "code",
   "execution_count": null,
   "id": "b0a411fe",
   "metadata": {},
   "outputs": [
    {
     "name": "stdout",
     "output_type": "stream",
     "text": [
      "\n",
      "Number of bits: 3\n"
     ]
    },
    {
     "name": "stderr",
     "output_type": "stream",
     "text": [
      "Training Progress: 100%|██████████| 30/30 [00:03<00:00,  9.22it/s]\n"
     ]
    },
    {
     "name": "stdout",
     "output_type": "stream",
     "text": [
      "Final Success Rate: 1.0000\n",
      "Mean Episode Length: 1.86\n",
      "\n",
      "Number of bits: 6\n"
     ]
    },
    {
     "name": "stderr",
     "output_type": "stream",
     "text": [
      "Training Progress: 100%|██████████| 30/30 [00:16<00:00,  1.86it/s]\n"
     ]
    },
    {
     "name": "stdout",
     "output_type": "stream",
     "text": [
      "Final Success Rate: 0.1200\n",
      "Mean Episode Length: 5.56\n",
      "\n",
      "Number of bits: 9\n"
     ]
    },
    {
     "name": "stderr",
     "output_type": "stream",
     "text": [
      "Training Progress: 100%|██████████| 30/30 [00:28<00:00,  1.05it/s]\n"
     ]
    },
    {
     "name": "stdout",
     "output_type": "stream",
     "text": [
      "Final Success Rate: 0.0000\n",
      "Mean Episode Length: 9.00\n",
      "\n",
      "Number of bits: 12\n"
     ]
    },
    {
     "name": "stderr",
     "output_type": "stream",
     "text": [
      "Training Progress: 100%|██████████| 30/30 [00:40<00:00,  1.35s/it]\n"
     ]
    },
    {
     "name": "stdout",
     "output_type": "stream",
     "text": [
      "Final Success Rate: 0.0000\n",
      "Mean Episode Length: 12.00\n",
      "\n",
      "Number of bits: 15\n"
     ]
    },
    {
     "name": "stderr",
     "output_type": "stream",
     "text": [
      "Training Progress: 100%|██████████| 30/30 [00:49<00:00,  1.65s/it]\n"
     ]
    },
    {
     "name": "stdout",
     "output_type": "stream",
     "text": [
      "Final Success Rate: 0.0000\n",
      "Mean Episode Length: 15.00\n"
     ]
    }
   ],
   "source": [
    "results =  multiple_train(bits=[3,6,9,12,15], her=False, num_epochs=40, episodes_per_epoch=16)"
   ]
  },
  {
   "cell_type": "code",
   "execution_count": null,
   "id": "46d48c60",
   "metadata": {},
   "outputs": [
    {
     "name": "stdout",
     "output_type": "stream",
     "text": [
      "\n",
      "Number of bits: 3\n"
     ]
    },
    {
     "name": "stderr",
     "output_type": "stream",
     "text": [
      "Training Progress: 100%|██████████| 30/30 [00:03<00:00,  8.22it/s]\n"
     ]
    },
    {
     "name": "stdout",
     "output_type": "stream",
     "text": [
      "Final Success Rate: 1.0000\n",
      "Mean Episode Length: 1.93\n",
      "\n",
      "Number of bits: 6\n"
     ]
    },
    {
     "name": "stderr",
     "output_type": "stream",
     "text": [
      "Training Progress: 100%|██████████| 30/30 [00:10<00:00,  2.78it/s]\n"
     ]
    },
    {
     "name": "stdout",
     "output_type": "stream",
     "text": [
      "Final Success Rate: 1.0000\n",
      "Mean Episode Length: 2.92\n",
      "\n",
      "Number of bits: 9\n"
     ]
    },
    {
     "name": "stderr",
     "output_type": "stream",
     "text": [
      "Training Progress: 100%|██████████| 30/30 [00:17<00:00,  1.68it/s]\n"
     ]
    },
    {
     "name": "stdout",
     "output_type": "stream",
     "text": [
      "Final Success Rate: 1.0000\n",
      "Mean Episode Length: 4.36\n",
      "\n",
      "Number of bits: 12\n"
     ]
    },
    {
     "name": "stderr",
     "output_type": "stream",
     "text": [
      "Training Progress: 100%|██████████| 30/30 [00:26<00:00,  1.14it/s]\n"
     ]
    },
    {
     "name": "stdout",
     "output_type": "stream",
     "text": [
      "Final Success Rate: 0.9800\n",
      "Mean Episode Length: 6.06\n",
      "\n",
      "Number of bits: 15\n"
     ]
    },
    {
     "name": "stderr",
     "output_type": "stream",
     "text": [
      "Training Progress: 100%|██████████| 30/30 [00:37<00:00,  1.24s/it]\n"
     ]
    },
    {
     "name": "stdout",
     "output_type": "stream",
     "text": [
      "Final Success Rate: 0.8600\n",
      "Mean Episode Length: 8.47\n"
     ]
    }
   ],
   "source": [
    "her_results = multiple_train(bits=[3,6,9,12,15], her=True, num_epochs=40, episodes_per_epoch=16)"
   ]
  },
  {
   "cell_type": "code",
   "execution_count": 15,
   "id": "5f31c982",
   "metadata": {},
   "outputs": [
    {
     "data": {
      "image/png": "[encoded data removed]",
      "text/plain": [
       "<Figure size 640x480 with 1 Axes>"
      ]
     },
     "metadata": {},
     "output_type": "display_data"
    }
   ],
   "source": [
    "plt.figure()\n",
    "\n",
    "plt.plot(results[0], results[1], label='DQN')\n",
    "plt.plot(her_results[0], her_results[1], label='DQN-HER')\n",
    "\n",
    "plt.xlabel('Number of Bits')\n",
    "plt.ylabel('Success Rate out of 100 episodes')\n",
    "plt.title('Environment: BitFlip, trained on 15 Epochs, 50 Episodes/Epoch')\n",
    "plt.legend(framealpha=0.9)\n",
    "plt.grid(True, alpha=0.3)\n",
    "plt.ylim([-0.05, 1.05])\n",
    "plt.show()"
   ]
  }
 ],
 "metadata": {
  "kernelspec": {
   "display_name": "Project (3.11.8)",
   "language": "python",
   "name": "python3"
  },
  "language_info": {
   "codemirror_mode": {
    "name": "ipython",
    "version": 3
   },
   "file_extension": ".py",
   "mimetype": "text/x-python",
   "name": "python",
   "nbconvert_exporter": "python",
   "pygments_lexer": "ipython3",
   "version": "3.11.8"
  }
 },
 "nbformat": 4,
 "nbformat_minor": 5
}
